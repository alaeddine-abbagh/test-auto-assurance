{
  "nbformat": 4,
  "nbformat_minor": 0,
  "metadata": {
    "colab": {
      "name": "Descarte.ipynb",
      "provenance": [],
      "collapsed_sections": [],
      "toc_visible": true
    },
    "kernelspec": {
      "name": "python3",
      "display_name": "Python 3"
    }
  },
  "cells": [
    {
      "cell_type": "code",
      "metadata": {
        "colab": {
          "base_uri": "https://localhost:8080/"
        },
        "id": "YzevcTtPeDiW",
        "outputId": "71a9c68b-03c9-41fb-f01a-57aaf63de556"
      },
      "source": [
        "from google.colab import drive\r\n",
        "drive.mount('/content/drive')"
      ],
      "execution_count": 1,
      "outputs": [
        {
          "output_type": "stream",
          "text": [
            "Mounted at /content/drive\n"
          ],
          "name": "stdout"
        }
      ]
    },
    {
      "cell_type": "code",
      "metadata": {
        "colab": {
          "base_uri": "https://localhost:8080/"
        },
        "id": "oSC4F-_vw5Vp",
        "outputId": "536808de-b0ef-4152-d38a-14e875aba875"
      },
      "source": [
        "%cd \"drive/MyDrive/Test Descartes\""
      ],
      "execution_count": 2,
      "outputs": [
        {
          "output_type": "stream",
          "text": [
            "/content/drive/MyDrive/Test Descartes\n"
          ],
          "name": "stdout"
        }
      ]
    },
    {
      "cell_type": "markdown",
      "metadata": {
        "id": "BLSxHFBWAfdN"
      },
      "source": [
        "Header description, why, how? \r\n"
      ]
    },
    {
      "cell_type": "code",
      "metadata": {
        "id": "yPwcSHgHxzhS"
      },
      "source": [
        "#Import libraries\r\n",
        "from sklearn.svm import SVC, LinearSVC\r\n",
        "import pandas as pd\r\n",
        "import seaborn as sns\r\n",
        "import matplotlib.pyplot as plt\r\n",
        "import numpy as np\r\n",
        "from sklearn.impute import SimpleImputer\r\n",
        "from sklearn.experimental import enable_iterative_imputer\r\n",
        "from sklearn.impute import IterativeImputer\r\n",
        "from imblearn.over_sampling import SMOTE\r\n",
        "from  time import time\r\n",
        "from sklearn.metrics import precision_score\r\n"
      ],
      "execution_count": 75,
      "outputs": []
    },
    {
      "cell_type": "code",
      "metadata": {
        "id": "4VbSwHUTxzj-"
      },
      "source": [
        "# Import data \r\n",
        "Mean_DIR = \"MEAN_AUTO.csv\"\r\n",
        "Shell_DIR = \"SHELL_AUTO.csv\" \r\n",
        "Test_DIR = \"test_auto.csv\"  \r\n",
        "Train_DIR = \"train_auto.csv\"\r\n",
        "\r\n",
        "Train_df = pd.read_csv(Train_DIR) \r\n",
        "Test_df = pd.read_csv(Test_DIR) \r\n",
        "Shell_df = pd.read_csv(Shell_DIR) #Real target value \r\n",
        "Mean_df = pd.read_csv(Mean_DIR) #Example of submission \r\n",
        "\r\n"
      ],
      "execution_count": 77,
      "outputs": []
    },
    {
      "cell_type": "code",
      "metadata": {
        "colab": {
          "base_uri": "https://localhost:8080/",
          "height": 724
        },
        "id": "i-FseVjuKHrX",
        "outputId": "103b9202-9abf-45a6-fbf3-e918f2c37e6c"
      },
      "source": [
        "Train_df"
      ],
      "execution_count": 78,
      "outputs": [
        {
          "output_type": "execute_result",
          "data": {
            "text/html": [
              "<div>\n",
              "<style scoped>\n",
              "    .dataframe tbody tr th:only-of-type {\n",
              "        vertical-align: middle;\n",
              "    }\n",
              "\n",
              "    .dataframe tbody tr th {\n",
              "        vertical-align: top;\n",
              "    }\n",
              "\n",
              "    .dataframe thead th {\n",
              "        text-align: right;\n",
              "    }\n",
              "</style>\n",
              "<table border=\"1\" class=\"dataframe\">\n",
              "  <thead>\n",
              "    <tr style=\"text-align: right;\">\n",
              "      <th></th>\n",
              "      <th>INDEX</th>\n",
              "      <th>TARGET_FLAG</th>\n",
              "      <th>TARGET_AMT</th>\n",
              "      <th>KIDSDRIV</th>\n",
              "      <th>AGE</th>\n",
              "      <th>HOMEKIDS</th>\n",
              "      <th>YOJ</th>\n",
              "      <th>INCOME</th>\n",
              "      <th>PARENT1</th>\n",
              "      <th>HOME_VAL</th>\n",
              "      <th>MSTATUS</th>\n",
              "      <th>SEX</th>\n",
              "      <th>EDUCATION</th>\n",
              "      <th>JOB</th>\n",
              "      <th>TRAVTIME</th>\n",
              "      <th>CAR_USE</th>\n",
              "      <th>BLUEBOOK</th>\n",
              "      <th>TIF</th>\n",
              "      <th>CAR_TYPE</th>\n",
              "      <th>RED_CAR</th>\n",
              "      <th>OLDCLAIM</th>\n",
              "      <th>CLM_FREQ</th>\n",
              "      <th>REVOKED</th>\n",
              "      <th>MVR_PTS</th>\n",
              "      <th>CAR_AGE</th>\n",
              "      <th>URBANICITY</th>\n",
              "    </tr>\n",
              "  </thead>\n",
              "  <tbody>\n",
              "    <tr>\n",
              "      <th>0</th>\n",
              "      <td>1</td>\n",
              "      <td>0</td>\n",
              "      <td>0.0</td>\n",
              "      <td>0</td>\n",
              "      <td>60.0</td>\n",
              "      <td>0</td>\n",
              "      <td>11.0</td>\n",
              "      <td>$67,349</td>\n",
              "      <td>No</td>\n",
              "      <td>$0</td>\n",
              "      <td>z_No</td>\n",
              "      <td>M</td>\n",
              "      <td>PhD</td>\n",
              "      <td>Professional</td>\n",
              "      <td>14</td>\n",
              "      <td>Private</td>\n",
              "      <td>$14,230</td>\n",
              "      <td>11</td>\n",
              "      <td>Minivan</td>\n",
              "      <td>yes</td>\n",
              "      <td>$4,461</td>\n",
              "      <td>2</td>\n",
              "      <td>No</td>\n",
              "      <td>3</td>\n",
              "      <td>18.0</td>\n",
              "      <td>Highly Urban/ Urban</td>\n",
              "    </tr>\n",
              "    <tr>\n",
              "      <th>1</th>\n",
              "      <td>2</td>\n",
              "      <td>0</td>\n",
              "      <td>0.0</td>\n",
              "      <td>0</td>\n",
              "      <td>43.0</td>\n",
              "      <td>0</td>\n",
              "      <td>11.0</td>\n",
              "      <td>$91,449</td>\n",
              "      <td>No</td>\n",
              "      <td>$257,252</td>\n",
              "      <td>z_No</td>\n",
              "      <td>M</td>\n",
              "      <td>z_High School</td>\n",
              "      <td>z_Blue Collar</td>\n",
              "      <td>22</td>\n",
              "      <td>Commercial</td>\n",
              "      <td>$14,940</td>\n",
              "      <td>1</td>\n",
              "      <td>Minivan</td>\n",
              "      <td>yes</td>\n",
              "      <td>$0</td>\n",
              "      <td>0</td>\n",
              "      <td>No</td>\n",
              "      <td>0</td>\n",
              "      <td>1.0</td>\n",
              "      <td>Highly Urban/ Urban</td>\n",
              "    </tr>\n",
              "    <tr>\n",
              "      <th>2</th>\n",
              "      <td>4</td>\n",
              "      <td>0</td>\n",
              "      <td>0.0</td>\n",
              "      <td>0</td>\n",
              "      <td>35.0</td>\n",
              "      <td>1</td>\n",
              "      <td>10.0</td>\n",
              "      <td>$16,039</td>\n",
              "      <td>No</td>\n",
              "      <td>$124,191</td>\n",
              "      <td>Yes</td>\n",
              "      <td>z_F</td>\n",
              "      <td>z_High School</td>\n",
              "      <td>Clerical</td>\n",
              "      <td>5</td>\n",
              "      <td>Private</td>\n",
              "      <td>$4,010</td>\n",
              "      <td>4</td>\n",
              "      <td>z_SUV</td>\n",
              "      <td>no</td>\n",
              "      <td>$38,690</td>\n",
              "      <td>2</td>\n",
              "      <td>No</td>\n",
              "      <td>3</td>\n",
              "      <td>10.0</td>\n",
              "      <td>Highly Urban/ Urban</td>\n",
              "    </tr>\n",
              "    <tr>\n",
              "      <th>3</th>\n",
              "      <td>5</td>\n",
              "      <td>0</td>\n",
              "      <td>0.0</td>\n",
              "      <td>0</td>\n",
              "      <td>51.0</td>\n",
              "      <td>0</td>\n",
              "      <td>14.0</td>\n",
              "      <td>NaN</td>\n",
              "      <td>No</td>\n",
              "      <td>$306,251</td>\n",
              "      <td>Yes</td>\n",
              "      <td>M</td>\n",
              "      <td>&lt;High School</td>\n",
              "      <td>z_Blue Collar</td>\n",
              "      <td>32</td>\n",
              "      <td>Private</td>\n",
              "      <td>$15,440</td>\n",
              "      <td>7</td>\n",
              "      <td>Minivan</td>\n",
              "      <td>yes</td>\n",
              "      <td>$0</td>\n",
              "      <td>0</td>\n",
              "      <td>No</td>\n",
              "      <td>0</td>\n",
              "      <td>6.0</td>\n",
              "      <td>Highly Urban/ Urban</td>\n",
              "    </tr>\n",
              "    <tr>\n",
              "      <th>4</th>\n",
              "      <td>6</td>\n",
              "      <td>0</td>\n",
              "      <td>0.0</td>\n",
              "      <td>0</td>\n",
              "      <td>50.0</td>\n",
              "      <td>0</td>\n",
              "      <td>NaN</td>\n",
              "      <td>$114,986</td>\n",
              "      <td>No</td>\n",
              "      <td>$243,925</td>\n",
              "      <td>Yes</td>\n",
              "      <td>z_F</td>\n",
              "      <td>PhD</td>\n",
              "      <td>Doctor</td>\n",
              "      <td>36</td>\n",
              "      <td>Private</td>\n",
              "      <td>$18,000</td>\n",
              "      <td>1</td>\n",
              "      <td>z_SUV</td>\n",
              "      <td>no</td>\n",
              "      <td>$19,217</td>\n",
              "      <td>2</td>\n",
              "      <td>Yes</td>\n",
              "      <td>3</td>\n",
              "      <td>17.0</td>\n",
              "      <td>Highly Urban/ Urban</td>\n",
              "    </tr>\n",
              "    <tr>\n",
              "      <th>...</th>\n",
              "      <td>...</td>\n",
              "      <td>...</td>\n",
              "      <td>...</td>\n",
              "      <td>...</td>\n",
              "      <td>...</td>\n",
              "      <td>...</td>\n",
              "      <td>...</td>\n",
              "      <td>...</td>\n",
              "      <td>...</td>\n",
              "      <td>...</td>\n",
              "      <td>...</td>\n",
              "      <td>...</td>\n",
              "      <td>...</td>\n",
              "      <td>...</td>\n",
              "      <td>...</td>\n",
              "      <td>...</td>\n",
              "      <td>...</td>\n",
              "      <td>...</td>\n",
              "      <td>...</td>\n",
              "      <td>...</td>\n",
              "      <td>...</td>\n",
              "      <td>...</td>\n",
              "      <td>...</td>\n",
              "      <td>...</td>\n",
              "      <td>...</td>\n",
              "      <td>...</td>\n",
              "    </tr>\n",
              "    <tr>\n",
              "      <th>8156</th>\n",
              "      <td>10297</td>\n",
              "      <td>0</td>\n",
              "      <td>0.0</td>\n",
              "      <td>0</td>\n",
              "      <td>35.0</td>\n",
              "      <td>0</td>\n",
              "      <td>11.0</td>\n",
              "      <td>$43,112</td>\n",
              "      <td>No</td>\n",
              "      <td>$0</td>\n",
              "      <td>z_No</td>\n",
              "      <td>M</td>\n",
              "      <td>z_High School</td>\n",
              "      <td>z_Blue Collar</td>\n",
              "      <td>51</td>\n",
              "      <td>Commercial</td>\n",
              "      <td>$27,330</td>\n",
              "      <td>10</td>\n",
              "      <td>Panel Truck</td>\n",
              "      <td>yes</td>\n",
              "      <td>$0</td>\n",
              "      <td>0</td>\n",
              "      <td>No</td>\n",
              "      <td>0</td>\n",
              "      <td>8.0</td>\n",
              "      <td>z_Highly Rural/ Rural</td>\n",
              "    </tr>\n",
              "    <tr>\n",
              "      <th>8157</th>\n",
              "      <td>10298</td>\n",
              "      <td>0</td>\n",
              "      <td>0.0</td>\n",
              "      <td>1</td>\n",
              "      <td>45.0</td>\n",
              "      <td>2</td>\n",
              "      <td>9.0</td>\n",
              "      <td>$164,669</td>\n",
              "      <td>No</td>\n",
              "      <td>$386,273</td>\n",
              "      <td>Yes</td>\n",
              "      <td>M</td>\n",
              "      <td>PhD</td>\n",
              "      <td>Manager</td>\n",
              "      <td>21</td>\n",
              "      <td>Private</td>\n",
              "      <td>$13,270</td>\n",
              "      <td>15</td>\n",
              "      <td>Minivan</td>\n",
              "      <td>no</td>\n",
              "      <td>$0</td>\n",
              "      <td>0</td>\n",
              "      <td>No</td>\n",
              "      <td>2</td>\n",
              "      <td>17.0</td>\n",
              "      <td>Highly Urban/ Urban</td>\n",
              "    </tr>\n",
              "    <tr>\n",
              "      <th>8158</th>\n",
              "      <td>10299</td>\n",
              "      <td>0</td>\n",
              "      <td>0.0</td>\n",
              "      <td>0</td>\n",
              "      <td>46.0</td>\n",
              "      <td>0</td>\n",
              "      <td>9.0</td>\n",
              "      <td>$107,204</td>\n",
              "      <td>No</td>\n",
              "      <td>$332,591</td>\n",
              "      <td>Yes</td>\n",
              "      <td>M</td>\n",
              "      <td>Masters</td>\n",
              "      <td>NaN</td>\n",
              "      <td>36</td>\n",
              "      <td>Commercial</td>\n",
              "      <td>$24,490</td>\n",
              "      <td>6</td>\n",
              "      <td>Panel Truck</td>\n",
              "      <td>no</td>\n",
              "      <td>$0</td>\n",
              "      <td>0</td>\n",
              "      <td>No</td>\n",
              "      <td>0</td>\n",
              "      <td>1.0</td>\n",
              "      <td>Highly Urban/ Urban</td>\n",
              "    </tr>\n",
              "    <tr>\n",
              "      <th>8159</th>\n",
              "      <td>10301</td>\n",
              "      <td>0</td>\n",
              "      <td>0.0</td>\n",
              "      <td>0</td>\n",
              "      <td>50.0</td>\n",
              "      <td>0</td>\n",
              "      <td>7.0</td>\n",
              "      <td>$43,445</td>\n",
              "      <td>No</td>\n",
              "      <td>$149,248</td>\n",
              "      <td>Yes</td>\n",
              "      <td>z_F</td>\n",
              "      <td>Bachelors</td>\n",
              "      <td>Home Maker</td>\n",
              "      <td>36</td>\n",
              "      <td>Private</td>\n",
              "      <td>$22,550</td>\n",
              "      <td>6</td>\n",
              "      <td>Minivan</td>\n",
              "      <td>no</td>\n",
              "      <td>$0</td>\n",
              "      <td>0</td>\n",
              "      <td>No</td>\n",
              "      <td>0</td>\n",
              "      <td>11.0</td>\n",
              "      <td>Highly Urban/ Urban</td>\n",
              "    </tr>\n",
              "    <tr>\n",
              "      <th>8160</th>\n",
              "      <td>10302</td>\n",
              "      <td>0</td>\n",
              "      <td>0.0</td>\n",
              "      <td>0</td>\n",
              "      <td>52.0</td>\n",
              "      <td>0</td>\n",
              "      <td>11.0</td>\n",
              "      <td>$53,235</td>\n",
              "      <td>No</td>\n",
              "      <td>$197,017</td>\n",
              "      <td>Yes</td>\n",
              "      <td>z_F</td>\n",
              "      <td>z_High School</td>\n",
              "      <td>Clerical</td>\n",
              "      <td>64</td>\n",
              "      <td>Private</td>\n",
              "      <td>$19,400</td>\n",
              "      <td>6</td>\n",
              "      <td>Minivan</td>\n",
              "      <td>no</td>\n",
              "      <td>$0</td>\n",
              "      <td>0</td>\n",
              "      <td>No</td>\n",
              "      <td>0</td>\n",
              "      <td>9.0</td>\n",
              "      <td>z_Highly Rural/ Rural</td>\n",
              "    </tr>\n",
              "  </tbody>\n",
              "</table>\n",
              "<p>8161 rows × 26 columns</p>\n",
              "</div>"
            ],
            "text/plain": [
              "      INDEX  TARGET_FLAG  TARGET_AMT  ...  MVR_PTS  CAR_AGE             URBANICITY\n",
              "0         1            0         0.0  ...        3     18.0    Highly Urban/ Urban\n",
              "1         2            0         0.0  ...        0      1.0    Highly Urban/ Urban\n",
              "2         4            0         0.0  ...        3     10.0    Highly Urban/ Urban\n",
              "3         5            0         0.0  ...        0      6.0    Highly Urban/ Urban\n",
              "4         6            0         0.0  ...        3     17.0    Highly Urban/ Urban\n",
              "...     ...          ...         ...  ...      ...      ...                    ...\n",
              "8156  10297            0         0.0  ...        0      8.0  z_Highly Rural/ Rural\n",
              "8157  10298            0         0.0  ...        2     17.0    Highly Urban/ Urban\n",
              "8158  10299            0         0.0  ...        0      1.0    Highly Urban/ Urban\n",
              "8159  10301            0         0.0  ...        0     11.0    Highly Urban/ Urban\n",
              "8160  10302            0         0.0  ...        0      9.0  z_Highly Rural/ Rural\n",
              "\n",
              "[8161 rows x 26 columns]"
            ]
          },
          "metadata": {
            "tags": []
          },
          "execution_count": 78
        }
      ]
    },
    {
      "cell_type": "code",
      "metadata": {
        "id": "S8CKAeaAOYGB"
      },
      "source": [
        "def clean_str_num(df, toClean):\r\n",
        "  ######################################################\r\n",
        "  #Input: \r\n",
        "      # df : data frame\r\n",
        "      # col: columns to clean \r\n",
        "\r\n",
        "  # Output: df_clean\r\n",
        "  # Description: removes \",\" \"$\" from columns in \"col\"\r\n",
        "  ######################################################\r\n",
        "  \r\n",
        "\r\n",
        "   df_clean = df.copy()\r\n",
        "   for col in toClean: \r\n",
        "     df_clean[col] = df[col].str.replace(',', '',regex=True).str.replace('$', '',regex=True).astype(float) \r\n",
        "   return df_clean\r\n",
        "\r\n",
        "\r\n",
        "def categ_to_num(df,cat_columns): \r\n",
        "   #######################################################\r\n",
        "   # Input: \r\n",
        "      # df : data frame\r\n",
        "      # cat_columns: categorical columns \r\n",
        "\r\n",
        "  # Output: df_num\r\n",
        "  # Description: Converts categorical variables to numerical codes\r\n",
        "  ######################################################\r\n",
        "   df_num = df.copy()\r\n",
        "   df_num[cat_columns] = df_num[cat_columns].astype('category')\r\n",
        "   df_num[cat_columns] = df_num[cat_columns].apply(lambda x: x.cat.codes)\r\n",
        "   return df_num\r\n",
        "\r\n",
        "\r\n",
        "#Clean \",\" and \"$\"\r\n",
        "toClean = [\"BLUEBOOK\",\"INCOME\",\"HOME_VAL\", \"BLUEBOOK\",\"OLDCLAIM\"]\r\n",
        "df_clean, Test_clean = clean_str_num(Train_df, toClean), clean_str_num(Test_df, toClean)\r\n",
        "\r\n",
        "\r\n",
        "#Convert categorical variables to numerical codes\r\n",
        "cat_columns = df_clean.select_dtypes(['object']).columns\r\n",
        "df_clean, Test_clean = categ_to_num(df_clean,cat_columns),categ_to_num(Test_clean,cat_columns)\r\n"
      ],
      "execution_count": 79,
      "outputs": []
    },
    {
      "cell_type": "code",
      "metadata": {
        "colab": {
          "base_uri": "https://localhost:8080/",
          "height": 422
        },
        "id": "fLLuvv5xPStM",
        "outputId": "58e5abe3-f4fa-48c0-f316-ef48a9250816"
      },
      "source": [
        "df_clean"
      ],
      "execution_count": 80,
      "outputs": [
        {
          "output_type": "execute_result",
          "data": {
            "text/html": [
              "<div>\n",
              "<style scoped>\n",
              "    .dataframe tbody tr th:only-of-type {\n",
              "        vertical-align: middle;\n",
              "    }\n",
              "\n",
              "    .dataframe tbody tr th {\n",
              "        vertical-align: top;\n",
              "    }\n",
              "\n",
              "    .dataframe thead th {\n",
              "        text-align: right;\n",
              "    }\n",
              "</style>\n",
              "<table border=\"1\" class=\"dataframe\">\n",
              "  <thead>\n",
              "    <tr style=\"text-align: right;\">\n",
              "      <th></th>\n",
              "      <th>INDEX</th>\n",
              "      <th>TARGET_FLAG</th>\n",
              "      <th>TARGET_AMT</th>\n",
              "      <th>KIDSDRIV</th>\n",
              "      <th>AGE</th>\n",
              "      <th>HOMEKIDS</th>\n",
              "      <th>YOJ</th>\n",
              "      <th>INCOME</th>\n",
              "      <th>PARENT1</th>\n",
              "      <th>HOME_VAL</th>\n",
              "      <th>MSTATUS</th>\n",
              "      <th>SEX</th>\n",
              "      <th>EDUCATION</th>\n",
              "      <th>JOB</th>\n",
              "      <th>TRAVTIME</th>\n",
              "      <th>CAR_USE</th>\n",
              "      <th>BLUEBOOK</th>\n",
              "      <th>TIF</th>\n",
              "      <th>CAR_TYPE</th>\n",
              "      <th>RED_CAR</th>\n",
              "      <th>OLDCLAIM</th>\n",
              "      <th>CLM_FREQ</th>\n",
              "      <th>REVOKED</th>\n",
              "      <th>MVR_PTS</th>\n",
              "      <th>CAR_AGE</th>\n",
              "      <th>URBANICITY</th>\n",
              "    </tr>\n",
              "  </thead>\n",
              "  <tbody>\n",
              "    <tr>\n",
              "      <th>0</th>\n",
              "      <td>1</td>\n",
              "      <td>0</td>\n",
              "      <td>0.0</td>\n",
              "      <td>0</td>\n",
              "      <td>60.0</td>\n",
              "      <td>0</td>\n",
              "      <td>11.0</td>\n",
              "      <td>67349.0</td>\n",
              "      <td>0</td>\n",
              "      <td>0.0</td>\n",
              "      <td>1</td>\n",
              "      <td>0</td>\n",
              "      <td>3</td>\n",
              "      <td>5</td>\n",
              "      <td>14</td>\n",
              "      <td>1</td>\n",
              "      <td>14230.0</td>\n",
              "      <td>11</td>\n",
              "      <td>0</td>\n",
              "      <td>1</td>\n",
              "      <td>4461.0</td>\n",
              "      <td>2</td>\n",
              "      <td>0</td>\n",
              "      <td>3</td>\n",
              "      <td>18.0</td>\n",
              "      <td>0</td>\n",
              "    </tr>\n",
              "    <tr>\n",
              "      <th>1</th>\n",
              "      <td>2</td>\n",
              "      <td>0</td>\n",
              "      <td>0.0</td>\n",
              "      <td>0</td>\n",
              "      <td>43.0</td>\n",
              "      <td>0</td>\n",
              "      <td>11.0</td>\n",
              "      <td>91449.0</td>\n",
              "      <td>0</td>\n",
              "      <td>257252.0</td>\n",
              "      <td>1</td>\n",
              "      <td>0</td>\n",
              "      <td>4</td>\n",
              "      <td>7</td>\n",
              "      <td>22</td>\n",
              "      <td>0</td>\n",
              "      <td>14940.0</td>\n",
              "      <td>1</td>\n",
              "      <td>0</td>\n",
              "      <td>1</td>\n",
              "      <td>0.0</td>\n",
              "      <td>0</td>\n",
              "      <td>0</td>\n",
              "      <td>0</td>\n",
              "      <td>1.0</td>\n",
              "      <td>0</td>\n",
              "    </tr>\n",
              "    <tr>\n",
              "      <th>2</th>\n",
              "      <td>4</td>\n",
              "      <td>0</td>\n",
              "      <td>0.0</td>\n",
              "      <td>0</td>\n",
              "      <td>35.0</td>\n",
              "      <td>1</td>\n",
              "      <td>10.0</td>\n",
              "      <td>16039.0</td>\n",
              "      <td>0</td>\n",
              "      <td>124191.0</td>\n",
              "      <td>0</td>\n",
              "      <td>1</td>\n",
              "      <td>4</td>\n",
              "      <td>0</td>\n",
              "      <td>5</td>\n",
              "      <td>1</td>\n",
              "      <td>4010.0</td>\n",
              "      <td>4</td>\n",
              "      <td>5</td>\n",
              "      <td>0</td>\n",
              "      <td>38690.0</td>\n",
              "      <td>2</td>\n",
              "      <td>0</td>\n",
              "      <td>3</td>\n",
              "      <td>10.0</td>\n",
              "      <td>0</td>\n",
              "    </tr>\n",
              "    <tr>\n",
              "      <th>3</th>\n",
              "      <td>5</td>\n",
              "      <td>0</td>\n",
              "      <td>0.0</td>\n",
              "      <td>0</td>\n",
              "      <td>51.0</td>\n",
              "      <td>0</td>\n",
              "      <td>14.0</td>\n",
              "      <td>NaN</td>\n",
              "      <td>0</td>\n",
              "      <td>306251.0</td>\n",
              "      <td>0</td>\n",
              "      <td>0</td>\n",
              "      <td>0</td>\n",
              "      <td>7</td>\n",
              "      <td>32</td>\n",
              "      <td>1</td>\n",
              "      <td>15440.0</td>\n",
              "      <td>7</td>\n",
              "      <td>0</td>\n",
              "      <td>1</td>\n",
              "      <td>0.0</td>\n",
              "      <td>0</td>\n",
              "      <td>0</td>\n",
              "      <td>0</td>\n",
              "      <td>6.0</td>\n",
              "      <td>0</td>\n",
              "    </tr>\n",
              "    <tr>\n",
              "      <th>4</th>\n",
              "      <td>6</td>\n",
              "      <td>0</td>\n",
              "      <td>0.0</td>\n",
              "      <td>0</td>\n",
              "      <td>50.0</td>\n",
              "      <td>0</td>\n",
              "      <td>NaN</td>\n",
              "      <td>114986.0</td>\n",
              "      <td>0</td>\n",
              "      <td>243925.0</td>\n",
              "      <td>0</td>\n",
              "      <td>1</td>\n",
              "      <td>3</td>\n",
              "      <td>1</td>\n",
              "      <td>36</td>\n",
              "      <td>1</td>\n",
              "      <td>18000.0</td>\n",
              "      <td>1</td>\n",
              "      <td>5</td>\n",
              "      <td>0</td>\n",
              "      <td>19217.0</td>\n",
              "      <td>2</td>\n",
              "      <td>1</td>\n",
              "      <td>3</td>\n",
              "      <td>17.0</td>\n",
              "      <td>0</td>\n",
              "    </tr>\n",
              "    <tr>\n",
              "      <th>...</th>\n",
              "      <td>...</td>\n",
              "      <td>...</td>\n",
              "      <td>...</td>\n",
              "      <td>...</td>\n",
              "      <td>...</td>\n",
              "      <td>...</td>\n",
              "      <td>...</td>\n",
              "      <td>...</td>\n",
              "      <td>...</td>\n",
              "      <td>...</td>\n",
              "      <td>...</td>\n",
              "      <td>...</td>\n",
              "      <td>...</td>\n",
              "      <td>...</td>\n",
              "      <td>...</td>\n",
              "      <td>...</td>\n",
              "      <td>...</td>\n",
              "      <td>...</td>\n",
              "      <td>...</td>\n",
              "      <td>...</td>\n",
              "      <td>...</td>\n",
              "      <td>...</td>\n",
              "      <td>...</td>\n",
              "      <td>...</td>\n",
              "      <td>...</td>\n",
              "      <td>...</td>\n",
              "    </tr>\n",
              "    <tr>\n",
              "      <th>8156</th>\n",
              "      <td>10297</td>\n",
              "      <td>0</td>\n",
              "      <td>0.0</td>\n",
              "      <td>0</td>\n",
              "      <td>35.0</td>\n",
              "      <td>0</td>\n",
              "      <td>11.0</td>\n",
              "      <td>43112.0</td>\n",
              "      <td>0</td>\n",
              "      <td>0.0</td>\n",
              "      <td>1</td>\n",
              "      <td>0</td>\n",
              "      <td>4</td>\n",
              "      <td>7</td>\n",
              "      <td>51</td>\n",
              "      <td>0</td>\n",
              "      <td>27330.0</td>\n",
              "      <td>10</td>\n",
              "      <td>1</td>\n",
              "      <td>1</td>\n",
              "      <td>0.0</td>\n",
              "      <td>0</td>\n",
              "      <td>0</td>\n",
              "      <td>0</td>\n",
              "      <td>8.0</td>\n",
              "      <td>1</td>\n",
              "    </tr>\n",
              "    <tr>\n",
              "      <th>8157</th>\n",
              "      <td>10298</td>\n",
              "      <td>0</td>\n",
              "      <td>0.0</td>\n",
              "      <td>1</td>\n",
              "      <td>45.0</td>\n",
              "      <td>2</td>\n",
              "      <td>9.0</td>\n",
              "      <td>164669.0</td>\n",
              "      <td>0</td>\n",
              "      <td>386273.0</td>\n",
              "      <td>0</td>\n",
              "      <td>0</td>\n",
              "      <td>3</td>\n",
              "      <td>4</td>\n",
              "      <td>21</td>\n",
              "      <td>1</td>\n",
              "      <td>13270.0</td>\n",
              "      <td>15</td>\n",
              "      <td>0</td>\n",
              "      <td>0</td>\n",
              "      <td>0.0</td>\n",
              "      <td>0</td>\n",
              "      <td>0</td>\n",
              "      <td>2</td>\n",
              "      <td>17.0</td>\n",
              "      <td>0</td>\n",
              "    </tr>\n",
              "    <tr>\n",
              "      <th>8158</th>\n",
              "      <td>10299</td>\n",
              "      <td>0</td>\n",
              "      <td>0.0</td>\n",
              "      <td>0</td>\n",
              "      <td>46.0</td>\n",
              "      <td>0</td>\n",
              "      <td>9.0</td>\n",
              "      <td>107204.0</td>\n",
              "      <td>0</td>\n",
              "      <td>332591.0</td>\n",
              "      <td>0</td>\n",
              "      <td>0</td>\n",
              "      <td>2</td>\n",
              "      <td>-1</td>\n",
              "      <td>36</td>\n",
              "      <td>0</td>\n",
              "      <td>24490.0</td>\n",
              "      <td>6</td>\n",
              "      <td>1</td>\n",
              "      <td>0</td>\n",
              "      <td>0.0</td>\n",
              "      <td>0</td>\n",
              "      <td>0</td>\n",
              "      <td>0</td>\n",
              "      <td>1.0</td>\n",
              "      <td>0</td>\n",
              "    </tr>\n",
              "    <tr>\n",
              "      <th>8159</th>\n",
              "      <td>10301</td>\n",
              "      <td>0</td>\n",
              "      <td>0.0</td>\n",
              "      <td>0</td>\n",
              "      <td>50.0</td>\n",
              "      <td>0</td>\n",
              "      <td>7.0</td>\n",
              "      <td>43445.0</td>\n",
              "      <td>0</td>\n",
              "      <td>149248.0</td>\n",
              "      <td>0</td>\n",
              "      <td>1</td>\n",
              "      <td>1</td>\n",
              "      <td>2</td>\n",
              "      <td>36</td>\n",
              "      <td>1</td>\n",
              "      <td>22550.0</td>\n",
              "      <td>6</td>\n",
              "      <td>0</td>\n",
              "      <td>0</td>\n",
              "      <td>0.0</td>\n",
              "      <td>0</td>\n",
              "      <td>0</td>\n",
              "      <td>0</td>\n",
              "      <td>11.0</td>\n",
              "      <td>0</td>\n",
              "    </tr>\n",
              "    <tr>\n",
              "      <th>8160</th>\n",
              "      <td>10302</td>\n",
              "      <td>0</td>\n",
              "      <td>0.0</td>\n",
              "      <td>0</td>\n",
              "      <td>52.0</td>\n",
              "      <td>0</td>\n",
              "      <td>11.0</td>\n",
              "      <td>53235.0</td>\n",
              "      <td>0</td>\n",
              "      <td>197017.0</td>\n",
              "      <td>0</td>\n",
              "      <td>1</td>\n",
              "      <td>4</td>\n",
              "      <td>0</td>\n",
              "      <td>64</td>\n",
              "      <td>1</td>\n",
              "      <td>19400.0</td>\n",
              "      <td>6</td>\n",
              "      <td>0</td>\n",
              "      <td>0</td>\n",
              "      <td>0.0</td>\n",
              "      <td>0</td>\n",
              "      <td>0</td>\n",
              "      <td>0</td>\n",
              "      <td>9.0</td>\n",
              "      <td>1</td>\n",
              "    </tr>\n",
              "  </tbody>\n",
              "</table>\n",
              "<p>8161 rows × 26 columns</p>\n",
              "</div>"
            ],
            "text/plain": [
              "      INDEX  TARGET_FLAG  TARGET_AMT  ...  MVR_PTS  CAR_AGE  URBANICITY\n",
              "0         1            0         0.0  ...        3     18.0           0\n",
              "1         2            0         0.0  ...        0      1.0           0\n",
              "2         4            0         0.0  ...        3     10.0           0\n",
              "3         5            0         0.0  ...        0      6.0           0\n",
              "4         6            0         0.0  ...        3     17.0           0\n",
              "...     ...          ...         ...  ...      ...      ...         ...\n",
              "8156  10297            0         0.0  ...        0      8.0           1\n",
              "8157  10298            0         0.0  ...        2     17.0           0\n",
              "8158  10299            0         0.0  ...        0      1.0           0\n",
              "8159  10301            0         0.0  ...        0     11.0           0\n",
              "8160  10302            0         0.0  ...        0      9.0           1\n",
              "\n",
              "[8161 rows x 26 columns]"
            ]
          },
          "metadata": {
            "tags": []
          },
          "execution_count": 80
        }
      ]
    },
    {
      "cell_type": "markdown",
      "metadata": {
        "id": "b82fwIpKAjI7"
      },
      "source": [
        "#Corrolation between features\r\n",
        "Which variables are most corrolated with the target label?"
      ]
    },
    {
      "cell_type": "code",
      "metadata": {
        "colab": {
          "base_uri": "https://localhost:8080/",
          "height": 611
        },
        "id": "bDso7Wiizrz4",
        "outputId": "eeed3827-be6a-40c3-d672-07fef829ea39"
      },
      "source": [
        "corrmat = df_clean.corr()\r\n",
        "f, ax = plt.subplots(figsize=(12, 9))\r\n",
        "sns.heatmap(corrmat, vmax=.8, square=True);"
      ],
      "execution_count": 81,
      "outputs": [
        {
          "output_type": "display_data",
          "data": {
            "image/png": "[encoded data removed]",
            "text/plain": [
              "<Figure size 864x648 with 2 Axes>"
            ]
          },
          "metadata": {
            "tags": []
          }
        }
      ]
    },
    {
      "cell_type": "markdown",
      "metadata": {
        "id": "z3H8Y44QAy2-"
      },
      "source": [
        "=> CLM_FREQ & MVR_PTS are most corrolated with the target label.\r\n",
        "Least corrolated is Urbanicity"
      ]
    },
    {
      "cell_type": "code",
      "metadata": {
        "colab": {
          "base_uri": "https://localhost:8080/",
          "height": 343
        },
        "id": "bckm8S81BtND",
        "outputId": "617e4b4f-d67a-4320-9421-1b7608a7145c"
      },
      "source": [
        "df_clean['INCOME_band'] = pd.cut(df_clean['INCOME'], 10)\r\n",
        "df_clean[['INCOME_band', 'TARGET_FLAG']].groupby(['INCOME_band'], as_index=False).mean().sort_values(by='INCOME_band', ascending=True)"
      ],
      "execution_count": 82,
      "outputs": [
        {
          "output_type": "execute_result",
          "data": {
            "text/html": [
              "<div>\n",
              "<style scoped>\n",
              "    .dataframe tbody tr th:only-of-type {\n",
              "        vertical-align: middle;\n",
              "    }\n",
              "\n",
              "    .dataframe tbody tr th {\n",
              "        vertical-align: top;\n",
              "    }\n",
              "\n",
              "    .dataframe thead th {\n",
              "        text-align: right;\n",
              "    }\n",
              "</style>\n",
              "<table border=\"1\" class=\"dataframe\">\n",
              "  <thead>\n",
              "    <tr style=\"text-align: right;\">\n",
              "      <th></th>\n",
              "      <th>INCOME_band</th>\n",
              "      <th>TARGET_FLAG</th>\n",
              "    </tr>\n",
              "  </thead>\n",
              "  <tbody>\n",
              "    <tr>\n",
              "      <th>0</th>\n",
              "      <td>(-367.03, 36703.0]</td>\n",
              "      <td>0.330097</td>\n",
              "    </tr>\n",
              "    <tr>\n",
              "      <th>1</th>\n",
              "      <td>(36703.0, 73406.0]</td>\n",
              "      <td>0.289269</td>\n",
              "    </tr>\n",
              "    <tr>\n",
              "      <th>2</th>\n",
              "      <td>(73406.0, 110109.0]</td>\n",
              "      <td>0.180198</td>\n",
              "    </tr>\n",
              "    <tr>\n",
              "      <th>3</th>\n",
              "      <td>(110109.0, 146812.0]</td>\n",
              "      <td>0.171617</td>\n",
              "    </tr>\n",
              "    <tr>\n",
              "      <th>4</th>\n",
              "      <td>(146812.0, 183515.0]</td>\n",
              "      <td>0.169811</td>\n",
              "    </tr>\n",
              "    <tr>\n",
              "      <th>5</th>\n",
              "      <td>(183515.0, 220218.0]</td>\n",
              "      <td>0.147826</td>\n",
              "    </tr>\n",
              "    <tr>\n",
              "      <th>6</th>\n",
              "      <td>(220218.0, 256921.0]</td>\n",
              "      <td>0.102041</td>\n",
              "    </tr>\n",
              "    <tr>\n",
              "      <th>7</th>\n",
              "      <td>(256921.0, 293624.0]</td>\n",
              "      <td>0.307692</td>\n",
              "    </tr>\n",
              "    <tr>\n",
              "      <th>8</th>\n",
              "      <td>(293624.0, 330327.0]</td>\n",
              "      <td>0.250000</td>\n",
              "    </tr>\n",
              "    <tr>\n",
              "      <th>9</th>\n",
              "      <td>(330327.0, 367030.0]</td>\n",
              "      <td>0.000000</td>\n",
              "    </tr>\n",
              "  </tbody>\n",
              "</table>\n",
              "</div>"
            ],
            "text/plain": [
              "            INCOME_band  TARGET_FLAG\n",
              "0    (-367.03, 36703.0]     0.330097\n",
              "1    (36703.0, 73406.0]     0.289269\n",
              "2   (73406.0, 110109.0]     0.180198\n",
              "3  (110109.0, 146812.0]     0.171617\n",
              "4  (146812.0, 183515.0]     0.169811\n",
              "5  (183515.0, 220218.0]     0.147826\n",
              "6  (220218.0, 256921.0]     0.102041\n",
              "7  (256921.0, 293624.0]     0.307692\n",
              "8  (293624.0, 330327.0]     0.250000\n",
              "9  (330327.0, 367030.0]     0.000000"
            ]
          },
          "metadata": {
            "tags": []
          },
          "execution_count": 82
        }
      ]
    },
    {
      "cell_type": "markdown",
      "metadata": {
        "id": "Yz9hhn5k3_7J"
      },
      "source": [
        "=> Target_flag seems to be closer to 1 with very low incomes and and relatively large incomes"
      ]
    },
    {
      "cell_type": "code",
      "metadata": {
        "id": "aGZ_nAzdBwP-"
      },
      "source": [
        "df_clean.drop('INCOME_band', axis = 1, inplace=True)"
      ],
      "execution_count": null,
      "outputs": []
    },
    {
      "cell_type": "code",
      "metadata": {
        "colab": {
          "base_uri": "https://localhost:8080/",
          "height": 238
        },
        "id": "xwVAc3kQCB7N",
        "outputId": "fca2a8d5-8246-45ce-f167-df3b7843d8a4"
      },
      "source": [
        "# Check if MVR_PTS has same distribution across classes\r\n",
        "g = sns.FacetGrid(df_clean, col='TARGET_FLAG')\r\n",
        "g.map(plt.hist, 'MVR_PTS', bins=30)"
      ],
      "execution_count": 85,
      "outputs": [
        {
          "output_type": "execute_result",
          "data": {
            "text/plain": [
              "<seaborn.axisgrid.FacetGrid at 0x7fc701995be0>"
            ]
          },
          "metadata": {
            "tags": []
          },
          "execution_count": 85
        },
        {
          "output_type": "display_data",
          "data": {
            "image/png": "[encoded data removed]",
            "text/plain": [
              "<Figure size 432x216 with 2 Axes>"
            ]
          },
          "metadata": {
            "tags": []
          }
        }
      ]
    },
    {
      "cell_type": "markdown",
      "metadata": {
        "id": "Nseb6sPhFHPs"
      },
      "source": [
        "=> MVR_PTS has the same distribution across classes"
      ]
    },
    {
      "cell_type": "markdown",
      "metadata": {
        "id": "Zw4OgrKrFBRD"
      },
      "source": [
        ""
      ]
    },
    {
      "cell_type": "code",
      "metadata": {
        "colab": {
          "base_uri": "https://localhost:8080/",
          "height": 106
        },
        "id": "EbYg6Y6kCFAe",
        "outputId": "59dcb3ff-8036-44c3-915e-140b14be92f4"
      },
      "source": [
        "df_clean[['SEX', 'TARGET_FLAG']].groupby(['SEX'], as_index=False).mean().sort_values(by='TARGET_FLAG', ascending=False)"
      ],
      "execution_count": 86,
      "outputs": [
        {
          "output_type": "execute_result",
          "data": {
            "text/html": [
              "<div>\n",
              "<style scoped>\n",
              "    .dataframe tbody tr th:only-of-type {\n",
              "        vertical-align: middle;\n",
              "    }\n",
              "\n",
              "    .dataframe tbody tr th {\n",
              "        vertical-align: top;\n",
              "    }\n",
              "\n",
              "    .dataframe thead th {\n",
              "        text-align: right;\n",
              "    }\n",
              "</style>\n",
              "<table border=\"1\" class=\"dataframe\">\n",
              "  <thead>\n",
              "    <tr style=\"text-align: right;\">\n",
              "      <th></th>\n",
              "      <th>SEX</th>\n",
              "      <th>TARGET_FLAG</th>\n",
              "    </tr>\n",
              "  </thead>\n",
              "  <tbody>\n",
              "    <tr>\n",
              "      <th>1</th>\n",
              "      <td>1</td>\n",
              "      <td>0.272457</td>\n",
              "    </tr>\n",
              "    <tr>\n",
              "      <th>0</th>\n",
              "      <td>0</td>\n",
              "      <td>0.253830</td>\n",
              "    </tr>\n",
              "  </tbody>\n",
              "</table>\n",
              "</div>"
            ],
            "text/plain": [
              "   SEX  TARGET_FLAG\n",
              "1    1     0.272457\n",
              "0    0     0.253830"
            ]
          },
          "metadata": {
            "tags": []
          },
          "execution_count": 86
        }
      ]
    },
    {
      "cell_type": "markdown",
      "metadata": {
        "id": "-4vQE0w3CFxB"
      },
      "source": [
        "=> Sex variable makes no difference in Target_Flag"
      ]
    },
    {
      "cell_type": "markdown",
      "metadata": {
        "id": "v_EmOHvoj4kB"
      },
      "source": [
        "#Missing Data"
      ]
    },
    {
      "cell_type": "markdown",
      "metadata": {
        "id": "PcpaZIvNj2s6"
      },
      "source": [
        "\r\n",
        "\r\n",
        "*   How prevalent is the missing data?\r\n",
        "*   Should we predict missing values or drop those columns/rows?\r\n",
        "\r\n",
        "\r\n"
      ]
    },
    {
      "cell_type": "code",
      "metadata": {
        "colab": {
          "base_uri": "https://localhost:8080/",
          "height": 639
        },
        "id": "vHxMO8Vjj1eG",
        "outputId": "1e397279-60fd-42ec-920b-6605bd4ce73a"
      },
      "source": [
        "#Check missing values on train data\r\n",
        "def missing_data(df_clean): \r\n",
        "   #######################################################\r\n",
        "   # Input: \r\n",
        "      # df_clean : data frame\r\n",
        " \r\n",
        "  # Output: Number and percentge of missing variables per feauture\r\n",
        "  ######################################################\r\n",
        "  total = df_clean.isnull().sum().sort_values(ascending=False)\r\n",
        "  percent = (df_clean.isnull().sum()/df_clean.isnull().count()).sort_values(ascending=False)\r\n",
        "  missing_data = pd.concat([total, percent], axis=1, keys=['Total', 'Percent'])\r\n",
        "  return missing_data.head(20)\r\n",
        "\r\n",
        "missing_data(df_clean)"
      ],
      "execution_count": 87,
      "outputs": [
        {
          "output_type": "execute_result",
          "data": {
            "text/html": [
              "<div>\n",
              "<style scoped>\n",
              "    .dataframe tbody tr th:only-of-type {\n",
              "        vertical-align: middle;\n",
              "    }\n",
              "\n",
              "    .dataframe tbody tr th {\n",
              "        vertical-align: top;\n",
              "    }\n",
              "\n",
              "    .dataframe thead th {\n",
              "        text-align: right;\n",
              "    }\n",
              "</style>\n",
              "<table border=\"1\" class=\"dataframe\">\n",
              "  <thead>\n",
              "    <tr style=\"text-align: right;\">\n",
              "      <th></th>\n",
              "      <th>Total</th>\n",
              "      <th>Percent</th>\n",
              "    </tr>\n",
              "  </thead>\n",
              "  <tbody>\n",
              "    <tr>\n",
              "      <th>CAR_AGE</th>\n",
              "      <td>510</td>\n",
              "      <td>0.062492</td>\n",
              "    </tr>\n",
              "    <tr>\n",
              "      <th>HOME_VAL</th>\n",
              "      <td>464</td>\n",
              "      <td>0.056856</td>\n",
              "    </tr>\n",
              "    <tr>\n",
              "      <th>YOJ</th>\n",
              "      <td>454</td>\n",
              "      <td>0.055630</td>\n",
              "    </tr>\n",
              "    <tr>\n",
              "      <th>INCOME</th>\n",
              "      <td>445</td>\n",
              "      <td>0.054528</td>\n",
              "    </tr>\n",
              "    <tr>\n",
              "      <th>AGE</th>\n",
              "      <td>6</td>\n",
              "      <td>0.000735</td>\n",
              "    </tr>\n",
              "    <tr>\n",
              "      <th>URBANICITY</th>\n",
              "      <td>0</td>\n",
              "      <td>0.000000</td>\n",
              "    </tr>\n",
              "    <tr>\n",
              "      <th>TARGET_FLAG</th>\n",
              "      <td>0</td>\n",
              "      <td>0.000000</td>\n",
              "    </tr>\n",
              "    <tr>\n",
              "      <th>TARGET_AMT</th>\n",
              "      <td>0</td>\n",
              "      <td>0.000000</td>\n",
              "    </tr>\n",
              "    <tr>\n",
              "      <th>KIDSDRIV</th>\n",
              "      <td>0</td>\n",
              "      <td>0.000000</td>\n",
              "    </tr>\n",
              "    <tr>\n",
              "      <th>HOMEKIDS</th>\n",
              "      <td>0</td>\n",
              "      <td>0.000000</td>\n",
              "    </tr>\n",
              "    <tr>\n",
              "      <th>PARENT1</th>\n",
              "      <td>0</td>\n",
              "      <td>0.000000</td>\n",
              "    </tr>\n",
              "    <tr>\n",
              "      <th>MSTATUS</th>\n",
              "      <td>0</td>\n",
              "      <td>0.000000</td>\n",
              "    </tr>\n",
              "    <tr>\n",
              "      <th>SEX</th>\n",
              "      <td>0</td>\n",
              "      <td>0.000000</td>\n",
              "    </tr>\n",
              "    <tr>\n",
              "      <th>EDUCATION</th>\n",
              "      <td>0</td>\n",
              "      <td>0.000000</td>\n",
              "    </tr>\n",
              "    <tr>\n",
              "      <th>JOB</th>\n",
              "      <td>0</td>\n",
              "      <td>0.000000</td>\n",
              "    </tr>\n",
              "    <tr>\n",
              "      <th>TRAVTIME</th>\n",
              "      <td>0</td>\n",
              "      <td>0.000000</td>\n",
              "    </tr>\n",
              "    <tr>\n",
              "      <th>CAR_USE</th>\n",
              "      <td>0</td>\n",
              "      <td>0.000000</td>\n",
              "    </tr>\n",
              "    <tr>\n",
              "      <th>BLUEBOOK</th>\n",
              "      <td>0</td>\n",
              "      <td>0.000000</td>\n",
              "    </tr>\n",
              "    <tr>\n",
              "      <th>TIF</th>\n",
              "      <td>0</td>\n",
              "      <td>0.000000</td>\n",
              "    </tr>\n",
              "    <tr>\n",
              "      <th>CAR_TYPE</th>\n",
              "      <td>0</td>\n",
              "      <td>0.000000</td>\n",
              "    </tr>\n",
              "  </tbody>\n",
              "</table>\n",
              "</div>"
            ],
            "text/plain": [
              "             Total   Percent\n",
              "CAR_AGE        510  0.062492\n",
              "HOME_VAL       464  0.056856\n",
              "YOJ            454  0.055630\n",
              "INCOME         445  0.054528\n",
              "AGE              6  0.000735\n",
              "URBANICITY       0  0.000000\n",
              "TARGET_FLAG      0  0.000000\n",
              "TARGET_AMT       0  0.000000\n",
              "KIDSDRIV         0  0.000000\n",
              "HOMEKIDS         0  0.000000\n",
              "PARENT1          0  0.000000\n",
              "MSTATUS          0  0.000000\n",
              "SEX              0  0.000000\n",
              "EDUCATION        0  0.000000\n",
              "JOB              0  0.000000\n",
              "TRAVTIME         0  0.000000\n",
              "CAR_USE          0  0.000000\n",
              "BLUEBOOK         0  0.000000\n",
              "TIF              0  0.000000\n",
              "CAR_TYPE         0  0.000000"
            ]
          },
          "metadata": {
            "tags": []
          },
          "execution_count": 87
        }
      ]
    },
    {
      "cell_type": "markdown",
      "metadata": {
        "id": "8H13j01kCxZL"
      },
      "source": [
        "\r\n",
        "\r\n",
        "*   Dropping missing features did not prove efficient. \r\n",
        "*   Missing data is not that commun between observations. \r\n",
        "\r\n",
        "\r\n"
      ]
    },
    {
      "cell_type": "code",
      "metadata": {
        "colab": {
          "base_uri": "https://localhost:8080/",
          "height": 639
        },
        "id": "ssffBfjqWCi8",
        "outputId": "f1fc5715-82b3-4d96-bd44-7dec341d0ee1"
      },
      "source": [
        "# Predict missing values with a linear regression\r\n",
        "my_imputer = IterativeImputer(max_iter=10, random_state=0)\r\n",
        "df = my_imputer.fit_transform(df_clean)\r\n",
        "df_clean[:]= my_imputer.transform(df)\r\n",
        "\r\n",
        "missing_data(df_clean)"
      ],
      "execution_count": 88,
      "outputs": [
        {
          "output_type": "execute_result",
          "data": {
            "text/html": [
              "<div>\n",
              "<style scoped>\n",
              "    .dataframe tbody tr th:only-of-type {\n",
              "        vertical-align: middle;\n",
              "    }\n",
              "\n",
              "    .dataframe tbody tr th {\n",
              "        vertical-align: top;\n",
              "    }\n",
              "\n",
              "    .dataframe thead th {\n",
              "        text-align: right;\n",
              "    }\n",
              "</style>\n",
              "<table border=\"1\" class=\"dataframe\">\n",
              "  <thead>\n",
              "    <tr style=\"text-align: right;\">\n",
              "      <th></th>\n",
              "      <th>Total</th>\n",
              "      <th>Percent</th>\n",
              "    </tr>\n",
              "  </thead>\n",
              "  <tbody>\n",
              "    <tr>\n",
              "      <th>URBANICITY</th>\n",
              "      <td>0</td>\n",
              "      <td>0.0</td>\n",
              "    </tr>\n",
              "    <tr>\n",
              "      <th>CAR_AGE</th>\n",
              "      <td>0</td>\n",
              "      <td>0.0</td>\n",
              "    </tr>\n",
              "    <tr>\n",
              "      <th>TARGET_FLAG</th>\n",
              "      <td>0</td>\n",
              "      <td>0.0</td>\n",
              "    </tr>\n",
              "    <tr>\n",
              "      <th>TARGET_AMT</th>\n",
              "      <td>0</td>\n",
              "      <td>0.0</td>\n",
              "    </tr>\n",
              "    <tr>\n",
              "      <th>KIDSDRIV</th>\n",
              "      <td>0</td>\n",
              "      <td>0.0</td>\n",
              "    </tr>\n",
              "    <tr>\n",
              "      <th>AGE</th>\n",
              "      <td>0</td>\n",
              "      <td>0.0</td>\n",
              "    </tr>\n",
              "    <tr>\n",
              "      <th>HOMEKIDS</th>\n",
              "      <td>0</td>\n",
              "      <td>0.0</td>\n",
              "    </tr>\n",
              "    <tr>\n",
              "      <th>YOJ</th>\n",
              "      <td>0</td>\n",
              "      <td>0.0</td>\n",
              "    </tr>\n",
              "    <tr>\n",
              "      <th>INCOME</th>\n",
              "      <td>0</td>\n",
              "      <td>0.0</td>\n",
              "    </tr>\n",
              "    <tr>\n",
              "      <th>PARENT1</th>\n",
              "      <td>0</td>\n",
              "      <td>0.0</td>\n",
              "    </tr>\n",
              "    <tr>\n",
              "      <th>HOME_VAL</th>\n",
              "      <td>0</td>\n",
              "      <td>0.0</td>\n",
              "    </tr>\n",
              "    <tr>\n",
              "      <th>MSTATUS</th>\n",
              "      <td>0</td>\n",
              "      <td>0.0</td>\n",
              "    </tr>\n",
              "    <tr>\n",
              "      <th>SEX</th>\n",
              "      <td>0</td>\n",
              "      <td>0.0</td>\n",
              "    </tr>\n",
              "    <tr>\n",
              "      <th>EDUCATION</th>\n",
              "      <td>0</td>\n",
              "      <td>0.0</td>\n",
              "    </tr>\n",
              "    <tr>\n",
              "      <th>JOB</th>\n",
              "      <td>0</td>\n",
              "      <td>0.0</td>\n",
              "    </tr>\n",
              "    <tr>\n",
              "      <th>TRAVTIME</th>\n",
              "      <td>0</td>\n",
              "      <td>0.0</td>\n",
              "    </tr>\n",
              "    <tr>\n",
              "      <th>CAR_USE</th>\n",
              "      <td>0</td>\n",
              "      <td>0.0</td>\n",
              "    </tr>\n",
              "    <tr>\n",
              "      <th>BLUEBOOK</th>\n",
              "      <td>0</td>\n",
              "      <td>0.0</td>\n",
              "    </tr>\n",
              "    <tr>\n",
              "      <th>TIF</th>\n",
              "      <td>0</td>\n",
              "      <td>0.0</td>\n",
              "    </tr>\n",
              "    <tr>\n",
              "      <th>CAR_TYPE</th>\n",
              "      <td>0</td>\n",
              "      <td>0.0</td>\n",
              "    </tr>\n",
              "  </tbody>\n",
              "</table>\n",
              "</div>"
            ],
            "text/plain": [
              "             Total  Percent\n",
              "URBANICITY       0      0.0\n",
              "CAR_AGE          0      0.0\n",
              "TARGET_FLAG      0      0.0\n",
              "TARGET_AMT       0      0.0\n",
              "KIDSDRIV         0      0.0\n",
              "AGE              0      0.0\n",
              "HOMEKIDS         0      0.0\n",
              "YOJ              0      0.0\n",
              "INCOME           0      0.0\n",
              "PARENT1          0      0.0\n",
              "HOME_VAL         0      0.0\n",
              "MSTATUS          0      0.0\n",
              "SEX              0      0.0\n",
              "EDUCATION        0      0.0\n",
              "JOB              0      0.0\n",
              "TRAVTIME         0      0.0\n",
              "CAR_USE          0      0.0\n",
              "BLUEBOOK         0      0.0\n",
              "TIF              0      0.0\n",
              "CAR_TYPE         0      0.0"
            ]
          },
          "metadata": {
            "tags": []
          },
          "execution_count": 88
        }
      ]
    },
    {
      "cell_type": "code",
      "metadata": {
        "colab": {
          "base_uri": "https://localhost:8080/",
          "height": 639
        },
        "id": "KebAX3GSClPu",
        "outputId": "4e966155-0556-4015-c946-5d4f6047fe87"
      },
      "source": [
        "#Check missing values on test data\r\n",
        "missing_data(Test_clean)\r\n"
      ],
      "execution_count": 89,
      "outputs": [
        {
          "output_type": "execute_result",
          "data": {
            "text/html": [
              "<div>\n",
              "<style scoped>\n",
              "    .dataframe tbody tr th:only-of-type {\n",
              "        vertical-align: middle;\n",
              "    }\n",
              "\n",
              "    .dataframe tbody tr th {\n",
              "        vertical-align: top;\n",
              "    }\n",
              "\n",
              "    .dataframe thead th {\n",
              "        text-align: right;\n",
              "    }\n",
              "</style>\n",
              "<table border=\"1\" class=\"dataframe\">\n",
              "  <thead>\n",
              "    <tr style=\"text-align: right;\">\n",
              "      <th></th>\n",
              "      <th>Total</th>\n",
              "      <th>Percent</th>\n",
              "    </tr>\n",
              "  </thead>\n",
              "  <tbody>\n",
              "    <tr>\n",
              "      <th>TARGET_FLAG</th>\n",
              "      <td>2141</td>\n",
              "      <td>1.000000</td>\n",
              "    </tr>\n",
              "    <tr>\n",
              "      <th>TARGET_AMT</th>\n",
              "      <td>2141</td>\n",
              "      <td>1.000000</td>\n",
              "    </tr>\n",
              "    <tr>\n",
              "      <th>CAR_AGE</th>\n",
              "      <td>129</td>\n",
              "      <td>0.060252</td>\n",
              "    </tr>\n",
              "    <tr>\n",
              "      <th>INCOME</th>\n",
              "      <td>125</td>\n",
              "      <td>0.058384</td>\n",
              "    </tr>\n",
              "    <tr>\n",
              "      <th>HOME_VAL</th>\n",
              "      <td>111</td>\n",
              "      <td>0.051845</td>\n",
              "    </tr>\n",
              "    <tr>\n",
              "      <th>YOJ</th>\n",
              "      <td>94</td>\n",
              "      <td>0.043905</td>\n",
              "    </tr>\n",
              "    <tr>\n",
              "      <th>AGE</th>\n",
              "      <td>1</td>\n",
              "      <td>0.000467</td>\n",
              "    </tr>\n",
              "    <tr>\n",
              "      <th>URBANICITY</th>\n",
              "      <td>0</td>\n",
              "      <td>0.000000</td>\n",
              "    </tr>\n",
              "    <tr>\n",
              "      <th>KIDSDRIV</th>\n",
              "      <td>0</td>\n",
              "      <td>0.000000</td>\n",
              "    </tr>\n",
              "    <tr>\n",
              "      <th>HOMEKIDS</th>\n",
              "      <td>0</td>\n",
              "      <td>0.000000</td>\n",
              "    </tr>\n",
              "    <tr>\n",
              "      <th>PARENT1</th>\n",
              "      <td>0</td>\n",
              "      <td>0.000000</td>\n",
              "    </tr>\n",
              "    <tr>\n",
              "      <th>MSTATUS</th>\n",
              "      <td>0</td>\n",
              "      <td>0.000000</td>\n",
              "    </tr>\n",
              "    <tr>\n",
              "      <th>SEX</th>\n",
              "      <td>0</td>\n",
              "      <td>0.000000</td>\n",
              "    </tr>\n",
              "    <tr>\n",
              "      <th>EDUCATION</th>\n",
              "      <td>0</td>\n",
              "      <td>0.000000</td>\n",
              "    </tr>\n",
              "    <tr>\n",
              "      <th>JOB</th>\n",
              "      <td>0</td>\n",
              "      <td>0.000000</td>\n",
              "    </tr>\n",
              "    <tr>\n",
              "      <th>TRAVTIME</th>\n",
              "      <td>0</td>\n",
              "      <td>0.000000</td>\n",
              "    </tr>\n",
              "    <tr>\n",
              "      <th>CAR_USE</th>\n",
              "      <td>0</td>\n",
              "      <td>0.000000</td>\n",
              "    </tr>\n",
              "    <tr>\n",
              "      <th>BLUEBOOK</th>\n",
              "      <td>0</td>\n",
              "      <td>0.000000</td>\n",
              "    </tr>\n",
              "    <tr>\n",
              "      <th>TIF</th>\n",
              "      <td>0</td>\n",
              "      <td>0.000000</td>\n",
              "    </tr>\n",
              "    <tr>\n",
              "      <th>CAR_TYPE</th>\n",
              "      <td>0</td>\n",
              "      <td>0.000000</td>\n",
              "    </tr>\n",
              "  </tbody>\n",
              "</table>\n",
              "</div>"
            ],
            "text/plain": [
              "             Total   Percent\n",
              "TARGET_FLAG   2141  1.000000\n",
              "TARGET_AMT    2141  1.000000\n",
              "CAR_AGE        129  0.060252\n",
              "INCOME         125  0.058384\n",
              "HOME_VAL       111  0.051845\n",
              "YOJ             94  0.043905\n",
              "AGE              1  0.000467\n",
              "URBANICITY       0  0.000000\n",
              "KIDSDRIV         0  0.000000\n",
              "HOMEKIDS         0  0.000000\n",
              "PARENT1          0  0.000000\n",
              "MSTATUS          0  0.000000\n",
              "SEX              0  0.000000\n",
              "EDUCATION        0  0.000000\n",
              "JOB              0  0.000000\n",
              "TRAVTIME         0  0.000000\n",
              "CAR_USE          0  0.000000\n",
              "BLUEBOOK         0  0.000000\n",
              "TIF              0  0.000000\n",
              "CAR_TYPE         0  0.000000"
            ]
          },
          "metadata": {
            "tags": []
          },
          "execution_count": 89
        }
      ]
    },
    {
      "cell_type": "code",
      "metadata": {
        "id": "AARMC5uFIA9C"
      },
      "source": [
        "# predict missing values with a linear regression\r\n",
        "my_imputer_t = IterativeImputer(max_iter=20, random_state=1)\r\n",
        "Test_clean.drop([\"TARGET_FLAG\",\t\"TARGET_AMT\"], axis = 1, inplace=True)\r\n",
        "df = my_imputer_t.fit_transform(Test_clean)\r\n",
        "Test_clean[:] = my_imputer_t.transform(df)\r\n",
        "\r\n",
        "# Other ideas: In case we don't have the full training data, or predictions are done real time, \r\n",
        "#  we should replace missing data with the mean, or the  \r\n",
        "#   value in the closest data point from the training data\r\n"
      ],
      "execution_count": 90,
      "outputs": []
    },
    {
      "cell_type": "code",
      "metadata": {
        "colab": {
          "base_uri": "https://localhost:8080/",
          "height": 639
        },
        "id": "HCCqM8wpIdTG",
        "outputId": "484913af-140b-42c1-e7fb-e19e9806db85"
      },
      "source": [
        "missing_data(Test_clean)"
      ],
      "execution_count": 91,
      "outputs": [
        {
          "output_type": "execute_result",
          "data": {
            "text/html": [
              "<div>\n",
              "<style scoped>\n",
              "    .dataframe tbody tr th:only-of-type {\n",
              "        vertical-align: middle;\n",
              "    }\n",
              "\n",
              "    .dataframe tbody tr th {\n",
              "        vertical-align: top;\n",
              "    }\n",
              "\n",
              "    .dataframe thead th {\n",
              "        text-align: right;\n",
              "    }\n",
              "</style>\n",
              "<table border=\"1\" class=\"dataframe\">\n",
              "  <thead>\n",
              "    <tr style=\"text-align: right;\">\n",
              "      <th></th>\n",
              "      <th>Total</th>\n",
              "      <th>Percent</th>\n",
              "    </tr>\n",
              "  </thead>\n",
              "  <tbody>\n",
              "    <tr>\n",
              "      <th>URBANICITY</th>\n",
              "      <td>0</td>\n",
              "      <td>0.0</td>\n",
              "    </tr>\n",
              "    <tr>\n",
              "      <th>CAR_AGE</th>\n",
              "      <td>0</td>\n",
              "      <td>0.0</td>\n",
              "    </tr>\n",
              "    <tr>\n",
              "      <th>KIDSDRIV</th>\n",
              "      <td>0</td>\n",
              "      <td>0.0</td>\n",
              "    </tr>\n",
              "    <tr>\n",
              "      <th>AGE</th>\n",
              "      <td>0</td>\n",
              "      <td>0.0</td>\n",
              "    </tr>\n",
              "    <tr>\n",
              "      <th>HOMEKIDS</th>\n",
              "      <td>0</td>\n",
              "      <td>0.0</td>\n",
              "    </tr>\n",
              "    <tr>\n",
              "      <th>YOJ</th>\n",
              "      <td>0</td>\n",
              "      <td>0.0</td>\n",
              "    </tr>\n",
              "    <tr>\n",
              "      <th>INCOME</th>\n",
              "      <td>0</td>\n",
              "      <td>0.0</td>\n",
              "    </tr>\n",
              "    <tr>\n",
              "      <th>PARENT1</th>\n",
              "      <td>0</td>\n",
              "      <td>0.0</td>\n",
              "    </tr>\n",
              "    <tr>\n",
              "      <th>HOME_VAL</th>\n",
              "      <td>0</td>\n",
              "      <td>0.0</td>\n",
              "    </tr>\n",
              "    <tr>\n",
              "      <th>MSTATUS</th>\n",
              "      <td>0</td>\n",
              "      <td>0.0</td>\n",
              "    </tr>\n",
              "    <tr>\n",
              "      <th>SEX</th>\n",
              "      <td>0</td>\n",
              "      <td>0.0</td>\n",
              "    </tr>\n",
              "    <tr>\n",
              "      <th>EDUCATION</th>\n",
              "      <td>0</td>\n",
              "      <td>0.0</td>\n",
              "    </tr>\n",
              "    <tr>\n",
              "      <th>JOB</th>\n",
              "      <td>0</td>\n",
              "      <td>0.0</td>\n",
              "    </tr>\n",
              "    <tr>\n",
              "      <th>TRAVTIME</th>\n",
              "      <td>0</td>\n",
              "      <td>0.0</td>\n",
              "    </tr>\n",
              "    <tr>\n",
              "      <th>CAR_USE</th>\n",
              "      <td>0</td>\n",
              "      <td>0.0</td>\n",
              "    </tr>\n",
              "    <tr>\n",
              "      <th>BLUEBOOK</th>\n",
              "      <td>0</td>\n",
              "      <td>0.0</td>\n",
              "    </tr>\n",
              "    <tr>\n",
              "      <th>TIF</th>\n",
              "      <td>0</td>\n",
              "      <td>0.0</td>\n",
              "    </tr>\n",
              "    <tr>\n",
              "      <th>CAR_TYPE</th>\n",
              "      <td>0</td>\n",
              "      <td>0.0</td>\n",
              "    </tr>\n",
              "    <tr>\n",
              "      <th>RED_CAR</th>\n",
              "      <td>0</td>\n",
              "      <td>0.0</td>\n",
              "    </tr>\n",
              "    <tr>\n",
              "      <th>OLDCLAIM</th>\n",
              "      <td>0</td>\n",
              "      <td>0.0</td>\n",
              "    </tr>\n",
              "  </tbody>\n",
              "</table>\n",
              "</div>"
            ],
            "text/plain": [
              "            Total  Percent\n",
              "URBANICITY      0      0.0\n",
              "CAR_AGE         0      0.0\n",
              "KIDSDRIV        0      0.0\n",
              "AGE             0      0.0\n",
              "HOMEKIDS        0      0.0\n",
              "YOJ             0      0.0\n",
              "INCOME          0      0.0\n",
              "PARENT1         0      0.0\n",
              "HOME_VAL        0      0.0\n",
              "MSTATUS         0      0.0\n",
              "SEX             0      0.0\n",
              "EDUCATION       0      0.0\n",
              "JOB             0      0.0\n",
              "TRAVTIME        0      0.0\n",
              "CAR_USE         0      0.0\n",
              "BLUEBOOK        0      0.0\n",
              "TIF             0      0.0\n",
              "CAR_TYPE        0      0.0\n",
              "RED_CAR         0      0.0\n",
              "OLDCLAIM        0      0.0"
            ]
          },
          "metadata": {
            "tags": []
          },
          "execution_count": 91
        }
      ]
    },
    {
      "cell_type": "code",
      "metadata": {
        "id": "YhEW8ayCCw4w"
      },
      "source": [
        "# col_drop = [\"CAR_AGE\",\"HOME_VAL\", \"YOJ\", \"INCOME\",\"AGE\"]\r\n",
        "# for col in col_drop:\r\n",
        "#   df_clean = df_clean.drop(df_clean.loc[df_clean[col].isnull()].index)"
      ],
      "execution_count": null,
      "outputs": []
    },
    {
      "cell_type": "markdown",
      "metadata": {
        "id": "Dk4k0uN4HVWJ"
      },
      "source": [
        " => Dropping the columns removes a lot of useful information, and so it makes sense that imputation would perform better."
      ]
    },
    {
      "cell_type": "markdown",
      "metadata": {
        "id": "2UgcRqe5x8cU"
      },
      "source": [
        "#Analyse Target_flag balance"
      ]
    },
    {
      "cell_type": "code",
      "metadata": {
        "colab": {
          "base_uri": "https://localhost:8080/"
        },
        "id": "S-K5r6aB2dAd",
        "outputId": "92952254-857c-48ce-b6c0-860f9498713a"
      },
      "source": [
        "# Check for classes balance\r\n",
        "hist_class1 = df_clean.groupby(['TARGET_FLAG'])['INDEX'].count() \r\n",
        "hist_class1"
      ],
      "execution_count": 92,
      "outputs": [
        {
          "output_type": "execute_result",
          "data": {
            "text/plain": [
              "TARGET_FLAG\n",
              "0.0    6008\n",
              "1.0    2153\n",
              "Name: INDEX, dtype: int64"
            ]
          },
          "metadata": {
            "tags": []
          },
          "execution_count": 92
        }
      ]
    },
    {
      "cell_type": "markdown",
      "metadata": {
        "id": "dDycZaLRSiA9"
      },
      "source": [
        "=> Unbalanced data"
      ]
    },
    {
      "cell_type": "code",
      "metadata": {
        "colab": {
          "base_uri": "https://localhost:8080/"
        },
        "id": "Be7IlTCUOAAf",
        "outputId": "e3c62747-637e-4b6a-d4ae-01779a3849a1"
      },
      "source": [
        "# Over sample minority by synthesizing new examples from the minority\r\n",
        "# class to create a balanced dataset.\r\n",
        "\r\n",
        "# Brief description: a random example from the minority class is first chosen. \r\n",
        "# Then k of the nearest neighbors for that example are found (typically k=5). \r\n",
        "#A randomly selected neighbor is chosen and a synthetic example is created at \r\n",
        "# a randomly selected point between the two examples in feature space.\r\n",
        "sm = SMOTE() \r\n",
        "X_train, Y_train = sm.fit_sample(df_clean.drop([\"TARGET_FLAG\",\"TARGET_AMT\"],1), df_clean[\"TARGET_FLAG\"].ravel()) \r\n",
        "\r\n",
        "\r\n",
        "print(\"Class 0 :\", sum(Y_train == 0))\r\n",
        "print(\"Class 1 : \", sum(Y_train == 1))"
      ],
      "execution_count": 112,
      "outputs": [
        {
          "output_type": "stream",
          "text": [
            "Class 0 : 6008\n",
            "Class 1 :  6008\n"
          ],
          "name": "stdout"
        }
      ]
    },
    {
      "cell_type": "markdown",
      "metadata": {
        "id": "ur6h0GPv5w59"
      },
      "source": [
        "#Predictions"
      ]
    },
    {
      "cell_type": "code",
      "metadata": {
        "colab": {
          "base_uri": "https://localhost:8080/"
        },
        "id": "8RrjoA-W5wCN",
        "outputId": "a86744ec-5192-4be5-c6bc-a15a20aff561"
      },
      "source": [
        "#Verify shapes\r\n",
        "X_test  = Test_clean.copy()\r\n",
        "X_train.shape, Y_train.shape, X_test.shape"
      ],
      "execution_count": 113,
      "outputs": [
        {
          "output_type": "execute_result",
          "data": {
            "text/plain": [
              "((12016, 24), (12016,), (2141, 24))"
            ]
          },
          "metadata": {
            "tags": []
          },
          "execution_count": 113
        }
      ]
    },
    {
      "cell_type": "markdown",
      "metadata": {
        "id": "K6JGzgy4-zea"
      },
      "source": [
        "## Logistic regression as a baseline"
      ]
    },
    {
      "cell_type": "code",
      "metadata": {
        "colab": {
          "base_uri": "https://localhost:8080/"
        },
        "id": "Ujv82RiB51py",
        "outputId": "a0562153-144c-4c69-e86f-77efca397319"
      },
      "source": [
        "from sklearn.linear_model import LogisticRegression\r\n",
        "from sklearn.impute import SimpleImputer\r\n",
        "from sklearn.model_selection import cross_validate\r\n",
        "logreg = LogisticRegression()\r\n",
        "\r\n",
        "# X_train = X_train.reset_index()\r\n",
        "# Y_train = Y_train.reset_index()\r\n",
        "\r\n",
        "\r\n",
        "scores = cross_validate(logreg, X_train, Y_train, cv=5)\r\n",
        "\r\n",
        "# imp = SimpleImputer(missing_values=np.nan, strategy='mean')\r\n",
        "# imp.fit(X_test)\r\n",
        "#X_test = X_test.reset_index()\r\n",
        "\r\n",
        "logreg.fit(X_train, Y_train)\r\n",
        "Y_pred = logreg.predict(X_test)\r\n",
        "acc_log = round(logreg.score(X_train, Y_train) * 100, 2)\r\n",
        "acc_log"
      ],
      "execution_count": 114,
      "outputs": [
        {
          "output_type": "execute_result",
          "data": {
            "text/plain": [
              "59.71"
            ]
          },
          "metadata": {
            "tags": []
          },
          "execution_count": 114
        }
      ]
    },
    {
      "cell_type": "code",
      "metadata": {
        "colab": {
          "base_uri": "https://localhost:8080/"
        },
        "id": "h7A07P54MfaZ",
        "outputId": "8c93bc04-9f9b-4813-bc42-bbc5c54acdba"
      },
      "source": [
        "scores[\"test_score\"]"
      ],
      "execution_count": 115,
      "outputs": [
        {
          "output_type": "execute_result",
          "data": {
            "text/plain": [
              "{'fit_time': array([0.12374759, 0.13112855, 0.12540865, 0.12589407, 0.06629181]),\n",
              " 'score_time': array([0.00113463, 0.00095749, 0.00102234, 0.00096107, 0.00096464]),\n",
              " 'test_score': array([0.58194676, 0.43279234, 0.60882231, 0.556804  , 0.41573034])}"
            ]
          },
          "metadata": {
            "tags": []
          },
          "execution_count": 115
        }
      ]
    },
    {
      "cell_type": "code",
      "metadata": {
        "id": "5sl1AN3jAU0p"
      },
      "source": [
        "coeff_df = pd.DataFrame(X_train.columns.delete(0))\r\n",
        "coeff_df.columns = ['Feature']\r\n",
        "coeff_df[\"Correlation\"] = pd.Series(logreg.coef_[0])\r\n",
        "\r\n",
        "coeff_df.sort_values(by='Correlation', ascending=False)"
      ],
      "execution_count": null,
      "outputs": []
    },
    {
      "cell_type": "markdown",
      "metadata": {
        "id": "A9b9PSbPYqzj"
      },
      "source": [
        "##Other models"
      ]
    },
    {
      "cell_type": "code",
      "metadata": {
        "colab": {
          "base_uri": "https://localhost:8080/"
        },
        "id": "O7q4gYuKA1nW",
        "outputId": "279d10a8-fd4c-442e-d460-15946df0b600"
      },
      "source": [
        "#Support vector machines  \r\n",
        "t0 = time()\r\n",
        "svc = SVC()\r\n",
        "scores = cross_validate(svc,X_train, Y_train, cv=5)\r\n",
        "svc.fit(X_train, Y_train)\r\n",
        "Y_pred = svc.predict(X_test)\r\n",
        "acc_svc = round(svc.score(X_train, Y_train) * 100, 2)\r\n",
        "print(\"done in %0.3fs\" % (time() - t0))\r\n",
        "acc_svc\r\n"
      ],
      "execution_count": 149,
      "outputs": [
        {
          "output_type": "stream",
          "text": [
            "done in 54.360s\n"
          ],
          "name": "stdout"
        },
        {
          "output_type": "execute_result",
          "data": {
            "text/plain": [
              "59.55"
            ]
          },
          "metadata": {
            "tags": []
          },
          "execution_count": 149
        }
      ]
    },
    {
      "cell_type": "code",
      "metadata": {
        "colab": {
          "base_uri": "https://localhost:8080/"
        },
        "id": "nmJt4W93O0-g",
        "outputId": "1c3b512b-ff5e-457f-ba1f-a4003259db36"
      },
      "source": [
        "scores[\"test_score\"]"
      ],
      "execution_count": 119,
      "outputs": [
        {
          "output_type": "execute_result",
          "data": {
            "text/plain": [
              "array([0.59775374, 0.56179775, 0.59051186, 0.58468581, 0.55930087])"
            ]
          },
          "metadata": {
            "tags": []
          },
          "execution_count": 119
        }
      ]
    },
    {
      "cell_type": "code",
      "metadata": {
        "id": "4uoyvB6byAyF"
      },
      "source": [
        "#73.59"
      ],
      "execution_count": null,
      "outputs": []
    },
    {
      "cell_type": "code",
      "metadata": {
        "colab": {
          "base_uri": "https://localhost:8080/"
        },
        "id": "Q5A8g5ckBJfs",
        "outputId": "1079cbf8-9c4b-412d-8c6f-a8e8184dbd63"
      },
      "source": [
        "#K neighbours\r\n",
        "from sklearn.neighbors import KNeighborsClassifier\r\n",
        "knn = KNeighborsClassifier(n_neighbors = 3)\r\n",
        "scores = cross_validate(knn,X_train, Y_train, cv=5)\r\n",
        "knn.fit(X_train, Y_train)\r\n",
        "\r\n",
        "Y_pred = knn.predict(X_test)\r\n",
        "acc_knn = round(knn.score(X_train, Y_train) * 100, 2)\r\n",
        "acc_knn"
      ],
      "execution_count": 121,
      "outputs": [
        {
          "output_type": "execute_result",
          "data": {
            "text/plain": [
              "88.69"
            ]
          },
          "metadata": {
            "tags": []
          },
          "execution_count": 121
        }
      ]
    },
    {
      "cell_type": "code",
      "metadata": {
        "colab": {
          "base_uri": "https://localhost:8080/"
        },
        "id": "uma0NVD4QKjK",
        "outputId": "bce39d27-2dce-43ec-cd7b-d06c3a567b83"
      },
      "source": [
        "scores[\"test_score\"]"
      ],
      "execution_count": 122,
      "outputs": [
        {
          "output_type": "execute_result",
          "data": {
            "text/plain": [
              "array([0.71464226, 0.68872243, 0.73699542, 0.7457345 , 0.71826883])"
            ]
          },
          "metadata": {
            "tags": []
          },
          "execution_count": 122
        }
      ]
    },
    {
      "cell_type": "code",
      "metadata": {
        "colab": {
          "base_uri": "https://localhost:8080/"
        },
        "id": "r1vCaZwjCGI-",
        "outputId": "8adf0e1e-c290-4a9d-c942-aef0c3ffc476"
      },
      "source": [
        "#Decision_tree\r\n",
        "decision_tree = DecisionTreeClassifier()\r\n",
        "scores = cross_validate(decision_tree,X_train, Y_train, cv=5)\r\n",
        "\r\n",
        "decision_tree.fit(X_train, Y_train)\r\n",
        "Y_pred = decision_tree.predict(X_test)\r\n",
        "acc_decision_tree = round(decision_tree.score(X_train, Y_train) * 100, 2)\r\n",
        "print(\"Training accouracy: \",acc_decision_tree) "
      ],
      "execution_count": 125,
      "outputs": [
        {
          "output_type": "execute_result",
          "data": {
            "text/plain": [
              "100.0"
            ]
          },
          "metadata": {
            "tags": []
          },
          "execution_count": 125
        }
      ]
    },
    {
      "cell_type": "code",
      "metadata": {
        "colab": {
          "base_uri": "https://localhost:8080/"
        },
        "id": "smmgwzwtQiR3",
        "outputId": "1bed43ac-30c5-4733-9ce7-94f0d6aab61b"
      },
      "source": [
        "scores[\"test_score\"]"
      ],
      "execution_count": 127,
      "outputs": [
        {
          "output_type": "execute_result",
          "data": {
            "text/plain": [
              "array([0.37562396, 0.36620891, 0.81523096, 0.75863504, 0.47648772])"
            ]
          },
          "metadata": {
            "tags": []
          },
          "execution_count": 127
        }
      ]
    },
    {
      "cell_type": "markdown",
      "metadata": {
        "id": "nhwZOLQrQyWd"
      },
      "source": [
        "=> Decision trees are overfitting"
      ]
    },
    {
      "cell_type": "code",
      "metadata": {
        "colab": {
          "base_uri": "https://localhost:8080/"
        },
        "id": "qV6_jFVfCb98",
        "outputId": "6a03f8b5-5f11-4568-fbc5-634a2d6f0e06"
      },
      "source": [
        "random_forest = RandomForestClassifier(n_estimators=100)\r\n",
        "scores = cross_validate(random_forest,X_train, Y_train, cv=5)\r\n",
        "random_forest.fit(X_train, Y_train)\r\n",
        "Y_pred = random_forest.predict(X_test)\r\n",
        "Y_pred.to_csv(file_name, sep='\\t')\r\n",
        "\r\n",
        "random_forest.score(X_train, Y_train)\r\n",
        "acc_random_forest = round(random_forest.score(X_train, Y_train) * 100, 2)\r\n",
        "acc_random_forest\r\n"
      ],
      "execution_count": 128,
      "outputs": [
        {
          "output_type": "execute_result",
          "data": {
            "text/plain": [
              "99.99"
            ]
          },
          "metadata": {
            "tags": []
          },
          "execution_count": 128
        }
      ]
    },
    {
      "cell_type": "code",
      "metadata": {
        "colab": {
          "base_uri": "https://localhost:8080/"
        },
        "id": "9SsXE5SeyP5W",
        "outputId": "1e21e8ed-440a-4270-f75b-a9bdd97b9efa"
      },
      "source": [
        "scores[\"test_score\"]"
      ],
      "execution_count": 129,
      "outputs": [
        {
          "output_type": "execute_result",
          "data": {
            "text/plain": [
              "array([0.49417637, 0.56054931, 0.88098211, 0.87473991, 0.50395339])"
            ]
          },
          "metadata": {
            "tags": []
          },
          "execution_count": 129
        }
      ]
    },
    {
      "cell_type": "code",
      "metadata": {
        "id": "1cTWnFTVZUYY"
      },
      "source": [
        "pd.DataFrame(Y_pred).to_csv(\"predictions.csv\")\r\n"
      ],
      "execution_count": 151,
      "outputs": []
    },
    {
      "cell_type": "code",
      "metadata": {
        "colab": {
          "base_uri": "https://localhost:8080/"
        },
        "id": "xHPqHTLNRSsE",
        "outputId": "9ef26283-f555-411c-a9af-fc53fc417669"
      },
      "source": [
        "# XGboost\r\n",
        "from xgboost import XGBClassifier\r\n",
        "xgb = XGBClassifier(n_estimators = 500, criterion = 'entropy',objective= \"binary:logistic\")\r\n",
        "p_grid_XG = {'n_estimators': [700],\"learning_rate\": [0.01], \"max_depth\": [5] , 'min_samples_leaf': [3], \"subsample\": [0.9]} # I have left best parameters.\r\n",
        "inner_cv = KFold(n_splits=3, shuffle=True, random_state=0)\r\n",
        "XG = GridSearchCV(estimator=xgb, param_grid=p_grid_XG, cv = inner_cv )\r\n",
        "\r\n",
        "XG.fit(X_train, Y_train)\r\n",
        "y_pred = XG.predict(X_train)\r\n",
        "print(\"Best parameters\": XG.best_params_)\r\n",
        "print(\"Score : \",XG.score(X_train, Y_train))\r\n"
      ],
      "execution_count": 140,
      "outputs": [
        {
          "output_type": "stream",
          "text": [
            "{'learning_rate': 0.01, 'max_depth': 5, 'min_samples_leaf': 3, 'n_estimators': 700, 'subsample': 0.9}\n",
            "Score :  0.8873169107856191\n"
          ],
          "name": "stdout"
        }
      ]
    },
    {
      "cell_type": "code",
      "metadata": {
        "colab": {
          "base_uri": "https://localhost:8080/"
        },
        "id": "ZtTgNmYzRsJA",
        "outputId": "edf7327f-12f5-4f3a-faa5-f86d605d8448"
      },
      "source": [
        "from sklearn.metrics import precision_score\r\n",
        "y_pred = XG.predict(X_train)\r\n",
        "precision_score(Y_train, y_pred, average='macro')"
      ],
      "execution_count": 142,
      "outputs": [
        {
          "output_type": "execute_result",
          "data": {
            "text/plain": [
              "0.8894438296319043"
            ]
          },
          "metadata": {
            "tags": []
          },
          "execution_count": 142
        }
      ]
    },
    {
      "cell_type": "code",
      "metadata": {
        "colab": {
          "base_uri": "https://localhost:8080/"
        },
        "id": "1FlwKFoiYCq2",
        "outputId": "e42458e3-ec63-4690-87cb-8225df201c7e"
      },
      "source": [
        "X_train.shape"
      ],
      "execution_count": 146,
      "outputs": [
        {
          "output_type": "execute_result",
          "data": {
            "text/plain": [
              "(12016, 24)"
            ]
          },
          "metadata": {
            "tags": []
          },
          "execution_count": 146
        }
      ]
    },
    {
      "cell_type": "markdown",
      "metadata": {
        "id": "9wcQpyqZYgiW"
      },
      "source": [
        "No real labels have been given for the test data so I used training scores"
      ]
    },
    {
      "cell_type": "code",
      "metadata": {
        "colab": {
          "base_uri": "https://localhost:8080/",
          "height": 195
        },
        "id": "0wC54qlMCf1i",
        "outputId": "af975646-f4d4-4cb9-e3a5-c5c0a4d16950"
      },
      "source": [
        "models = pd.DataFrame({\r\n",
        "    'Model': ['Support Vector Machines', 'KNN', 'Logistic Regression', \r\n",
        "              'Random Forest',\r\n",
        "                           'Decision Tree'],\r\n",
        "    'Training Score': [acc_svc, acc_knn, acc_log, \r\n",
        "              acc_random_forest, \r\n",
        "                acc_decision_tree]})\r\n",
        "models.sort_values(by='Score', ascending=False)"
      ],
      "execution_count": 130,
      "outputs": [
        {
          "output_type": "execute_result",
          "data": {
            "text/html": [
              "<div>\n",
              "<style scoped>\n",
              "    .dataframe tbody tr th:only-of-type {\n",
              "        vertical-align: middle;\n",
              "    }\n",
              "\n",
              "    .dataframe tbody tr th {\n",
              "        vertical-align: top;\n",
              "    }\n",
              "\n",
              "    .dataframe thead th {\n",
              "        text-align: right;\n",
              "    }\n",
              "</style>\n",
              "<table border=\"1\" class=\"dataframe\">\n",
              "  <thead>\n",
              "    <tr style=\"text-align: right;\">\n",
              "      <th></th>\n",
              "      <th>Model</th>\n",
              "      <th>Score</th>\n",
              "    </tr>\n",
              "  </thead>\n",
              "  <tbody>\n",
              "    <tr>\n",
              "      <th>4</th>\n",
              "      <td>Decision Tree</td>\n",
              "      <td>100.00</td>\n",
              "    </tr>\n",
              "    <tr>\n",
              "      <th>3</th>\n",
              "      <td>Random Forest</td>\n",
              "      <td>99.99</td>\n",
              "    </tr>\n",
              "    <tr>\n",
              "      <th>1</th>\n",
              "      <td>KNN</td>\n",
              "      <td>88.69</td>\n",
              "    </tr>\n",
              "    <tr>\n",
              "      <th>2</th>\n",
              "      <td>Logistic Regression</td>\n",
              "      <td>59.71</td>\n",
              "    </tr>\n",
              "    <tr>\n",
              "      <th>0</th>\n",
              "      <td>Support Vector Machines</td>\n",
              "      <td>59.55</td>\n",
              "    </tr>\n",
              "  </tbody>\n",
              "</table>\n",
              "</div>"
            ],
            "text/plain": [
              "                     Model   Score\n",
              "4            Decision Tree  100.00\n",
              "3            Random Forest   99.99\n",
              "1                      KNN   88.69\n",
              "2      Logistic Regression   59.71\n",
              "0  Support Vector Machines   59.55"
            ]
          },
          "metadata": {
            "tags": []
          },
          "execution_count": 130
        }
      ]
    }
  ]
}